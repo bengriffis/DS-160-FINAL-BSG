{
 "cells": [
  {
   "cell_type": "markdown",
   "id": "f6c79be9",
   "metadata": {},
   "source": [
    "## Importing the libraries"
   ]
  },
  {
   "cell_type": "code",
   "execution_count": 1,
   "id": "74a6ab8f",
   "metadata": {},
   "outputs": [],
   "source": [
    "import numpy as np\n",
    "import matplotlib.pyplot as plt\n",
    "import pandas as pd\n",
    "import seaborn as sns"
   ]
  },
  {
   "cell_type": "markdown",
   "id": "cc76256f",
   "metadata": {},
   "source": [
    "## Importing dataset from kaggle and giving it a new name"
   ]
  },
  {
   "cell_type": "code",
   "execution_count": 2,
   "id": "20c39631",
   "metadata": {},
   "outputs": [],
   "source": [
    "dataset=pd.read_csv('car_data.csv')"
   ]
  },
  {
   "cell_type": "code",
   "execution_count": 3,
   "id": "2f870b0e",
   "metadata": {},
   "outputs": [
    {
     "data": {
      "text/html": [
       "<div>\n",
       "<style scoped>\n",
       "    .dataframe tbody tr th:only-of-type {\n",
       "        vertical-align: middle;\n",
       "    }\n",
       "\n",
       "    .dataframe tbody tr th {\n",
       "        vertical-align: top;\n",
       "    }\n",
       "\n",
       "    .dataframe thead th {\n",
       "        text-align: right;\n",
       "    }\n",
       "</style>\n",
       "<table border=\"1\" class=\"dataframe\">\n",
       "  <thead>\n",
       "    <tr style=\"text-align: right;\">\n",
       "      <th></th>\n",
       "      <th>User ID</th>\n",
       "      <th>Gender</th>\n",
       "      <th>Age</th>\n",
       "      <th>AnnualSalary</th>\n",
       "      <th>Purchased</th>\n",
       "    </tr>\n",
       "  </thead>\n",
       "  <tbody>\n",
       "    <tr>\n",
       "      <th>0</th>\n",
       "      <td>385</td>\n",
       "      <td>Male</td>\n",
       "      <td>35</td>\n",
       "      <td>20000</td>\n",
       "      <td>0</td>\n",
       "    </tr>\n",
       "    <tr>\n",
       "      <th>1</th>\n",
       "      <td>681</td>\n",
       "      <td>Male</td>\n",
       "      <td>40</td>\n",
       "      <td>43500</td>\n",
       "      <td>0</td>\n",
       "    </tr>\n",
       "    <tr>\n",
       "      <th>2</th>\n",
       "      <td>353</td>\n",
       "      <td>Male</td>\n",
       "      <td>49</td>\n",
       "      <td>74000</td>\n",
       "      <td>0</td>\n",
       "    </tr>\n",
       "    <tr>\n",
       "      <th>3</th>\n",
       "      <td>895</td>\n",
       "      <td>Male</td>\n",
       "      <td>40</td>\n",
       "      <td>107500</td>\n",
       "      <td>1</td>\n",
       "    </tr>\n",
       "    <tr>\n",
       "      <th>4</th>\n",
       "      <td>661</td>\n",
       "      <td>Male</td>\n",
       "      <td>25</td>\n",
       "      <td>79000</td>\n",
       "      <td>0</td>\n",
       "    </tr>\n",
       "  </tbody>\n",
       "</table>\n",
       "</div>"
      ],
      "text/plain": [
       "   User ID Gender  Age  AnnualSalary  Purchased\n",
       "0      385   Male   35         20000          0\n",
       "1      681   Male   40         43500          0\n",
       "2      353   Male   49         74000          0\n",
       "3      895   Male   40        107500          1\n",
       "4      661   Male   25         79000          0"
      ]
     },
     "execution_count": 3,
     "metadata": {},
     "output_type": "execute_result"
    }
   ],
   "source": [
    "dataset.head()"
   ]
  },
  {
   "cell_type": "code",
   "execution_count": 4,
   "id": "fcc09cc5",
   "metadata": {},
   "outputs": [
    {
     "name": "stdout",
     "output_type": "stream",
     "text": [
      "<class 'pandas.core.frame.DataFrame'>\n",
      "RangeIndex: 1000 entries, 0 to 999\n",
      "Data columns (total 5 columns):\n",
      " #   Column        Non-Null Count  Dtype \n",
      "---  ------        --------------  ----- \n",
      " 0   User ID       1000 non-null   int64 \n",
      " 1   Gender        1000 non-null   object\n",
      " 2   Age           1000 non-null   int64 \n",
      " 3   AnnualSalary  1000 non-null   int64 \n",
      " 4   Purchased     1000 non-null   int64 \n",
      "dtypes: int64(4), object(1)\n",
      "memory usage: 39.2+ KB\n"
     ]
    }
   ],
   "source": [
    "dataset.info()"
   ]
  },
  {
   "cell_type": "markdown",
   "id": "9bbe9049",
   "metadata": {},
   "source": [
    "## Checking for missing data"
   ]
  },
  {
   "cell_type": "code",
   "execution_count": 5,
   "id": "f723864a",
   "metadata": {},
   "outputs": [
    {
     "data": {
      "text/plain": [
       "User ID         0\n",
       "Gender          0\n",
       "Age             0\n",
       "AnnualSalary    0\n",
       "Purchased       0\n",
       "dtype: int64"
      ]
     },
     "execution_count": 5,
     "metadata": {},
     "output_type": "execute_result"
    }
   ],
   "source": [
    "dataset.isnull().sum()\n",
    "#there is no missing values in this dataset"
   ]
  },
  {
   "cell_type": "markdown",
   "id": "d82d5afc",
   "metadata": {},
   "source": [
    "## Basline Accuracy"
   ]
  },
  {
   "cell_type": "code",
   "execution_count": 37,
   "id": "27257d20",
   "metadata": {},
   "outputs": [
    {
     "name": "stdout",
     "output_type": "stream",
     "text": [
      "Number of '0' in the 'Purchased' column: 598\n"
     ]
    }
   ],
   "source": [
    "# Count the number of occurrences of \"0\" in the \"Purchased\" column \"No\"\n",
    "count_0 = (dataset[\"Purchased\"] == 0).sum()\n",
    "\n",
    "print(\"Number of '0' in the 'Purchased' column:\", count_0)"
   ]
  },
  {
   "cell_type": "code",
   "execution_count": 39,
   "id": "b1a42558",
   "metadata": {},
   "outputs": [
    {
     "name": "stdout",
     "output_type": "stream",
     "text": [
      "Number of '0' in the 'Purchased' column: 402\n"
     ]
    }
   ],
   "source": [
    "# Count the number of occurrences of \"1\" in the \"Purchased\" column \"Yes\"\n",
    "count_1 = (dataset[\"Purchased\"] == 1).sum()\n",
    "\n",
    "print(\"Number of '0' in the 'Purchased' column:\", count_1)"
   ]
  },
  {
   "cell_type": "markdown",
   "id": "b4fc5fd1",
   "metadata": {},
   "source": [
    "### 598/1000 = 0.598 or 59% is the baseline accuracy "
   ]
  },
  {
   "cell_type": "markdown",
   "id": "f26e998c",
   "metadata": {},
   "source": [
    "## Split the data into independent and dependent variables"
   ]
  },
  {
   "cell_type": "code",
   "execution_count": 6,
   "id": "f6c68791",
   "metadata": {},
   "outputs": [
    {
     "data": {
      "text/plain": [
       "Index(['User ID', 'Gender', 'Age', 'AnnualSalary', 'Purchased'], dtype='object')"
      ]
     },
     "execution_count": 6,
     "metadata": {},
     "output_type": "execute_result"
    }
   ],
   "source": [
    "dataset.columns"
   ]
  },
  {
   "cell_type": "code",
   "execution_count": 7,
   "id": "15608e7f",
   "metadata": {},
   "outputs": [],
   "source": [
    "X=dataset.drop(columns=[\"Purchased\"])\n",
    "Y=dataset[['Purchased']]"
   ]
  },
  {
   "cell_type": "markdown",
   "id": "67df928b",
   "metadata": {},
   "source": [
    "## Handling categorical variables\n",
    "#### pd.get_dummies transforms categorical variables into patterns of zeros and ones"
   ]
  },
  {
   "cell_type": "code",
   "execution_count": 32,
   "id": "2553649f",
   "metadata": {},
   "outputs": [],
   "source": [
    "X=pd.get_dummies(dataset[['User ID', 'Gender', 'Age', 'AnnualSalary']],\n",
    "                drop_first=True)"
   ]
  },
  {
   "cell_type": "code",
   "execution_count": 40,
   "id": "61c57dec",
   "metadata": {},
   "outputs": [
    {
     "data": {
      "text/html": [
       "<div>\n",
       "<style scoped>\n",
       "    .dataframe tbody tr th:only-of-type {\n",
       "        vertical-align: middle;\n",
       "    }\n",
       "\n",
       "    .dataframe tbody tr th {\n",
       "        vertical-align: top;\n",
       "    }\n",
       "\n",
       "    .dataframe thead th {\n",
       "        text-align: right;\n",
       "    }\n",
       "</style>\n",
       "<table border=\"1\" class=\"dataframe\">\n",
       "  <thead>\n",
       "    <tr style=\"text-align: right;\">\n",
       "      <th></th>\n",
       "      <th>User ID</th>\n",
       "      <th>Age</th>\n",
       "      <th>AnnualSalary</th>\n",
       "      <th>Gender_Male</th>\n",
       "    </tr>\n",
       "  </thead>\n",
       "  <tbody>\n",
       "    <tr>\n",
       "      <th>0</th>\n",
       "      <td>385</td>\n",
       "      <td>35</td>\n",
       "      <td>20000</td>\n",
       "      <td>1</td>\n",
       "    </tr>\n",
       "    <tr>\n",
       "      <th>1</th>\n",
       "      <td>681</td>\n",
       "      <td>40</td>\n",
       "      <td>43500</td>\n",
       "      <td>1</td>\n",
       "    </tr>\n",
       "    <tr>\n",
       "      <th>2</th>\n",
       "      <td>353</td>\n",
       "      <td>49</td>\n",
       "      <td>74000</td>\n",
       "      <td>1</td>\n",
       "    </tr>\n",
       "    <tr>\n",
       "      <th>3</th>\n",
       "      <td>895</td>\n",
       "      <td>40</td>\n",
       "      <td>107500</td>\n",
       "      <td>1</td>\n",
       "    </tr>\n",
       "    <tr>\n",
       "      <th>4</th>\n",
       "      <td>661</td>\n",
       "      <td>25</td>\n",
       "      <td>79000</td>\n",
       "      <td>1</td>\n",
       "    </tr>\n",
       "    <tr>\n",
       "      <th>5</th>\n",
       "      <td>846</td>\n",
       "      <td>47</td>\n",
       "      <td>33500</td>\n",
       "      <td>0</td>\n",
       "    </tr>\n",
       "    <tr>\n",
       "      <th>6</th>\n",
       "      <td>219</td>\n",
       "      <td>46</td>\n",
       "      <td>132500</td>\n",
       "      <td>0</td>\n",
       "    </tr>\n",
       "    <tr>\n",
       "      <th>7</th>\n",
       "      <td>588</td>\n",
       "      <td>42</td>\n",
       "      <td>64000</td>\n",
       "      <td>1</td>\n",
       "    </tr>\n",
       "    <tr>\n",
       "      <th>8</th>\n",
       "      <td>85</td>\n",
       "      <td>30</td>\n",
       "      <td>84500</td>\n",
       "      <td>0</td>\n",
       "    </tr>\n",
       "    <tr>\n",
       "      <th>9</th>\n",
       "      <td>465</td>\n",
       "      <td>41</td>\n",
       "      <td>52000</td>\n",
       "      <td>1</td>\n",
       "    </tr>\n",
       "  </tbody>\n",
       "</table>\n",
       "</div>"
      ],
      "text/plain": [
       "   User ID  Age  AnnualSalary  Gender_Male\n",
       "0      385   35         20000            1\n",
       "1      681   40         43500            1\n",
       "2      353   49         74000            1\n",
       "3      895   40        107500            1\n",
       "4      661   25         79000            1\n",
       "5      846   47         33500            0\n",
       "6      219   46        132500            0\n",
       "7      588   42         64000            1\n",
       "8       85   30         84500            0\n",
       "9      465   41         52000            1"
      ]
     },
     "execution_count": 40,
     "metadata": {},
     "output_type": "execute_result"
    }
   ],
   "source": [
    "X.head(10)"
   ]
  },
  {
   "cell_type": "markdown",
   "id": "dd87f4dd",
   "metadata": {},
   "source": [
    "## ------------ TEST 1 -------------"
   ]
  },
  {
   "cell_type": "markdown",
   "id": "76bdf432",
   "metadata": {},
   "source": [
    "#### Splitting the dataset into training, testing and validation set\n"
   ]
  },
  {
   "cell_type": "code",
   "execution_count": 10,
   "id": "13f0608f",
   "metadata": {},
   "outputs": [],
   "source": [
    "from sklearn.model_selection import train_test_split\n",
    "X_train,X_test,Y_train,Y_test=train_test_split(X,Y,test_size=.4,random_state=50)"
   ]
  },
  {
   "cell_type": "code",
   "execution_count": 11,
   "id": "53d61ef6",
   "metadata": {},
   "outputs": [
    {
     "data": {
      "text/plain": [
       "LogisticRegression()"
      ]
     },
     "execution_count": 11,
     "metadata": {},
     "output_type": "execute_result"
    }
   ],
   "source": [
    "from sklearn.linear_model import LogisticRegression\n",
    "classifier=LogisticRegression()\n",
    "classifier.fit(X_train.values,Y_train.values.ravel())"
   ]
  },
  {
   "cell_type": "markdown",
   "id": "76a50666",
   "metadata": {},
   "source": [
    "### Confusion Matrix"
   ]
  },
  {
   "cell_type": "code",
   "execution_count": 12,
   "id": "d0939598",
   "metadata": {},
   "outputs": [],
   "source": [
    "y_pred=classifier.predict(X_test.values)"
   ]
  },
  {
   "cell_type": "code",
   "execution_count": 13,
   "id": "9a5d4616",
   "metadata": {},
   "outputs": [
    {
     "name": "stdout",
     "output_type": "stream",
     "text": [
      "[[144  91]\n",
      " [ 76  89]]\n"
     ]
    }
   ],
   "source": [
    "from sklearn.metrics import confusion_matrix,ConfusionMatrixDisplay\n",
    "cm=confusion_matrix(Y_test,y_pred)\n",
    "print(cm)"
   ]
  },
  {
   "cell_type": "code",
   "execution_count": 14,
   "id": "3a0c5d45",
   "metadata": {},
   "outputs": [
    {
     "data": {
      "image/png": "[encoded data removed]",
      "text/plain": [
       "<Figure size 432x288 with 2 Axes>"
      ]
     },
     "metadata": {
      "needs_background": "light"
     },
     "output_type": "display_data"
    }
   ],
   "source": [
    "disp=ConfusionMatrixDisplay(confusion_matrix=cm,display_labels=classifier.classes_)\n",
    "disp.plot()\n",
    "plt.show()"
   ]
  },
  {
   "cell_type": "code",
   "execution_count": 15,
   "id": "7e556811",
   "metadata": {},
   "outputs": [],
   "source": [
    "# True Negative - 144\n",
    "# False Negative - 91\n",
    "# True Positive - 89\n",
    "# False Positive - 76"
   ]
  },
  {
   "cell_type": "code",
   "execution_count": 16,
   "id": "ce3854fe",
   "metadata": {},
   "outputs": [
    {
     "name": "stdout",
     "output_type": "stream",
     "text": [
      "              precision    recall  f1-score   support\n",
      "\n",
      "           0       0.65      0.61      0.63       235\n",
      "           1       0.49      0.54      0.52       165\n",
      "\n",
      "    accuracy                           0.58       400\n",
      "   macro avg       0.57      0.58      0.57       400\n",
      "weighted avg       0.59      0.58      0.58       400\n",
      "\n"
     ]
    }
   ],
   "source": [
    "from sklearn.metrics import classification_report\n",
    "print(classification_report(Y_test,y_pred))"
   ]
  },
  {
   "cell_type": "markdown",
   "id": "f5afc96d",
   "metadata": {},
   "source": [
    "## Accuracy is 58% for 60/40 train and test split"
   ]
  },
  {
   "cell_type": "markdown",
   "id": "2bee849f",
   "metadata": {},
   "source": [
    "## -------------TEST 2-----------"
   ]
  },
  {
   "cell_type": "code",
   "execution_count": 17,
   "id": "e290b667",
   "metadata": {},
   "outputs": [],
   "source": [
    "from sklearn.model_selection import train_test_split\n",
    "X_train,X_test,Y_train,Y_test=train_test_split(X,Y,test_size=.2,random_state=50)"
   ]
  },
  {
   "cell_type": "code",
   "execution_count": 18,
   "id": "e0bae8bd",
   "metadata": {},
   "outputs": [
    {
     "data": {
      "text/plain": [
       "LogisticRegression()"
      ]
     },
     "execution_count": 18,
     "metadata": {},
     "output_type": "execute_result"
    }
   ],
   "source": [
    "from sklearn.linear_model import LogisticRegression\n",
    "classifier=LogisticRegression()\n",
    "classifier.fit(X_train.values,Y_train.values.ravel())"
   ]
  },
  {
   "cell_type": "code",
   "execution_count": 19,
   "id": "e101573d",
   "metadata": {},
   "outputs": [],
   "source": [
    "y_pred=classifier.predict(X_test.values)"
   ]
  },
  {
   "cell_type": "code",
   "execution_count": 20,
   "id": "60e2bf2b",
   "metadata": {},
   "outputs": [
    {
     "name": "stdout",
     "output_type": "stream",
     "text": [
      "[[67 45]\n",
      " [39 49]]\n"
     ]
    }
   ],
   "source": [
    "from sklearn.metrics import confusion_matrix,ConfusionMatrixDisplay\n",
    "cm=confusion_matrix(Y_test,y_pred)\n",
    "print(cm)"
   ]
  },
  {
   "cell_type": "code",
   "execution_count": 21,
   "id": "850a5c0a",
   "metadata": {},
   "outputs": [
    {
     "data": {
      "image/png": "[encoded data removed]",
      "text/plain": [
       "<Figure size 432x288 with 2 Axes>"
      ]
     },
     "metadata": {
      "needs_background": "light"
     },
     "output_type": "display_data"
    }
   ],
   "source": [
    "disp=ConfusionMatrixDisplay(confusion_matrix=cm,display_labels=classifier.classes_)\n",
    "disp.plot()\n",
    "plt.show()"
   ]
  },
  {
   "cell_type": "code",
   "execution_count": 22,
   "id": "8323edbf",
   "metadata": {},
   "outputs": [],
   "source": [
    "# True Negative - 67\n",
    "# False Negative - 45\n",
    "# True Positive - 49\n",
    "# False Positive - 39"
   ]
  },
  {
   "cell_type": "code",
   "execution_count": 23,
   "id": "b952bd94",
   "metadata": {},
   "outputs": [
    {
     "name": "stdout",
     "output_type": "stream",
     "text": [
      "              precision    recall  f1-score   support\n",
      "\n",
      "           0       0.63      0.60      0.61       112\n",
      "           1       0.52      0.56      0.54        88\n",
      "\n",
      "    accuracy                           0.58       200\n",
      "   macro avg       0.58      0.58      0.58       200\n",
      "weighted avg       0.58      0.58      0.58       200\n",
      "\n"
     ]
    }
   ],
   "source": [
    "from sklearn.metrics import classification_report\n",
    "print(classification_report(Y_test,y_pred))"
   ]
  },
  {
   "cell_type": "markdown",
   "id": "8dbbc400",
   "metadata": {},
   "source": [
    "## Accuracy is 58% for 80/20 train and test split\n"
   ]
  },
  {
   "cell_type": "markdown",
   "id": "8f3e3ad7",
   "metadata": {},
   "source": [
    "## -------------- TEST 3 ---------------"
   ]
  },
  {
   "cell_type": "code",
   "execution_count": 24,
   "id": "5f86e8cb",
   "metadata": {},
   "outputs": [],
   "source": [
    "from sklearn.model_selection import train_test_split\n",
    "X_train,X_test,Y_train,Y_test=train_test_split(X,Y,test_size=.1,random_state=50)"
   ]
  },
  {
   "cell_type": "code",
   "execution_count": 25,
   "id": "e3ef6eaf",
   "metadata": {},
   "outputs": [
    {
     "data": {
      "text/plain": [
       "LogisticRegression()"
      ]
     },
     "execution_count": 25,
     "metadata": {},
     "output_type": "execute_result"
    }
   ],
   "source": [
    "from sklearn.linear_model import LogisticRegression\n",
    "classifier=LogisticRegression()\n",
    "classifier.fit(X_train.values,Y_train.values.ravel())"
   ]
  },
  {
   "cell_type": "code",
   "execution_count": 26,
   "id": "54d66266",
   "metadata": {},
   "outputs": [],
   "source": [
    "y_pred=classifier.predict(X_test.values)"
   ]
  },
  {
   "cell_type": "code",
   "execution_count": 27,
   "id": "228ab0cc",
   "metadata": {},
   "outputs": [
    {
     "name": "stdout",
     "output_type": "stream",
     "text": [
      "[[37 23]\n",
      " [19 21]]\n"
     ]
    }
   ],
   "source": [
    "from sklearn.metrics import confusion_matrix,ConfusionMatrixDisplay\n",
    "cm=confusion_matrix(Y_test,y_pred)\n",
    "print(cm)"
   ]
  },
  {
   "cell_type": "code",
   "execution_count": 28,
   "id": "d91cba12",
   "metadata": {},
   "outputs": [
    {
     "data": {
      "image/png": "[encoded data removed]",
      "text/plain": [
       "<Figure size 432x288 with 2 Axes>"
      ]
     },
     "metadata": {
      "needs_background": "light"
     },
     "output_type": "display_data"
    }
   ],
   "source": [
    "disp=ConfusionMatrixDisplay(confusion_matrix=cm,display_labels=classifier.classes_)\n",
    "disp.plot()\n",
    "plt.show()"
   ]
  },
  {
   "cell_type": "code",
   "execution_count": 29,
   "id": "fb3b4df4",
   "metadata": {},
   "outputs": [],
   "source": [
    "# True Negative - 37\n",
    "# False Negative - 23\n",
    "# True Positive - 21\n",
    "# False Positive - 19"
   ]
  },
  {
   "cell_type": "code",
   "execution_count": 30,
   "id": "9cedb26b",
   "metadata": {},
   "outputs": [
    {
     "name": "stdout",
     "output_type": "stream",
     "text": [
      "              precision    recall  f1-score   support\n",
      "\n",
      "           0       0.66      0.62      0.64        60\n",
      "           1       0.48      0.53      0.50        40\n",
      "\n",
      "    accuracy                           0.58       100\n",
      "   macro avg       0.57      0.57      0.57       100\n",
      "weighted avg       0.59      0.58      0.58       100\n",
      "\n"
     ]
    }
   ],
   "source": [
    "from sklearn.metrics import classification_report\n",
    "print(classification_report(Y_test,y_pred))"
   ]
  },
  {
   "cell_type": "markdown",
   "id": "c6ced7b4",
   "metadata": {},
   "source": [
    "## Accuracy is 58% for 90/10 train and test split\n"
   ]
  }
 ],
 "metadata": {
  "kernelspec": {
   "display_name": "Python 3 (ipykernel)",
   "language": "python",
   "name": "python3"
  },
  "language_info": {
   "codemirror_mode": {
    "name": "ipython",
    "version": 3
   },
   "file_extension": ".py",
   "mimetype": "text/x-python",
   "name": "python",
   "nbconvert_exporter": "python",
   "pygments_lexer": "ipython3",
   "version": "3.9.12"
  }
 },
 "nbformat": 4,
 "nbformat_minor": 5
}
